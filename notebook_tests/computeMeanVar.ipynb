{
 "cells": [
  {
   "cell_type": "code",
   "execution_count": 1,
   "metadata": {},
   "outputs": [
    {
     "name": "stderr",
     "output_type": "stream",
     "text": [
      "/opt/miniconda3/envs/devIA/lib/python3.12/site-packages/tqdm/auto.py:21: TqdmWarning: IProgress not found. Please update jupyter and ipywidgets. See https://ipywidgets.readthedocs.io/en/stable/user_install.html\n",
      "  from .autonotebook import tqdm as notebook_tqdm\n"
     ]
    }
   ],
   "source": [
    "# some tools:\n",
    "import json\n",
    "from functools import partial\n",
    "from cjm_psl_utils.core import download_file, file_extract\n",
    "from cjm_torchvision_tfms.core import ResizeMax, PadSquare, CustomRandomIoUCrop\n",
    "import math\n",
    "\n",
    "\n",
    "import torch\n",
    "import torchvision\n",
    "import torchvision.transforms as transforms\n",
    "from torch.utils.data import DataLoader\n",
    "from torch.utils.data import Dataset\n",
    "import matplotlib.pyplot as plt\n",
    "torch.manual_seed(42)\n",
    "import numpy as np\n",
    "from PIL import Image\n",
    "torchvision.disable_beta_transforms_warning()\n",
    "from torchvision.tv_tensors import BoundingBoxes\n",
    "from torchvision.utils import draw_bounding_boxes\n",
    "import torchvision.transforms.v2  as transforms\n",
    "\n",
    "import pytorch_lightning as pl\n",
    "from pytorch_lightning import LightningDataModule, LightningModule, Trainer\n",
    "from torch.autograd import Variable\n",
    "from pytorch_lightning import loggers as pl_loggers\n",
    "\n",
    "\n",
    "BASE_PATH = \"/Users/sacha.lahlou/Library/CloudStorage/OneDrive-PMU/centernetImplementation/centernet/cardDetectionDataset/\"\n",
    "TEST_PATH = \"test/\"\n",
    "TRAIN_PATH = \"train/\"\n",
    "VAL_PATH = \"valid/\"\n",
    "ANNOTATION_FILENAME = \"_annotations.coco.json\"\n",
    "\n",
    "NB_CLASS = 53\n",
    "\n",
    "TRAIN_SIZE = 256"
   ]
  },
  {
   "cell_type": "code",
   "execution_count": 2,
   "metadata": {},
   "outputs": [],
   "source": [
    "class CardDlayingDataset(Dataset):\n",
    "    def __init__(self, path, transforms=None):\n",
    "        super().__init__()\n",
    "        self.path = path\n",
    "\n",
    "        with open(self.path + '_annotations.coco.json', 'r') as f:\n",
    "            datas = json.load(f)\n",
    "        classes = datas['categories']\n",
    "        imgs = datas['images']\n",
    "        annotations = datas['annotations']\n",
    "        \n",
    "        self.parsed_datas = self._datas_parser(imgs, annotations)\n",
    "        self.classes_names = [c['name'] for c in classes] # class_name are already in order\n",
    "\n",
    "        \n",
    "        self.size = len(self.parsed_datas)\n",
    "        self.transforms = transforms\n",
    "\n",
    "        self.max_objs = 5\n",
    "        self.padding = 127  # 31 for resnet/resdcn\n",
    "        self.downsampling_ratio = 4\n",
    "        self.img_size = {'h': TRAIN_SIZE, 'w': TRAIN_SIZE}\n",
    "        self.fmap_size = {'h': TRAIN_SIZE // self.downsampling_ratio, 'w': TRAIN_SIZE // self.downsampling_ratio}\n",
    "        # self.rand_scales = np.arange(0.6, 1.4, 0.1)\n",
    "        self.gaussian_iou = 0.3\n",
    "\n",
    "\n",
    "        \n",
    "    def __getitem__(self, i):\n",
    "        img = Image.open(self.path + self.parsed_datas[i]['filename']).convert('RGB')\n",
    "        labels = self.parsed_datas[i]['labels']\n",
    "        \n",
    "        return (img, labels)\n",
    "\n",
    "    def __len__(self):\n",
    "        return self.size\n",
    "    \n",
    "    def _datas_parser(self, imgs, annotations):\n",
    "        images_list_parsed = []\n",
    "\n",
    "        for img in imgs:\n",
    "            img_id, filename = img['id'], img['file_name']\n",
    "            related_annotations = []\n",
    "            for annot in annotations:\n",
    "                if annot[\"image_id\"] == img_id:\n",
    "                    related_annotations.append(dict( box=annot['bbox'], classe=annot['category_id'], area=annot['area']) )\n",
    "            images_list_parsed.append(dict(id=img_id, filename=filename, labels=related_annotations))\n",
    "\n",
    "        return (images_list_parsed)\n",
    "    "
   ]
  },
  {
   "cell_type": "code",
   "execution_count": 3,
   "metadata": {},
   "outputs": [],
   "source": [
    "ds = CardDlayingDataset(BASE_PATH + TRAIN_PATH)"
   ]
  },
  {
   "cell_type": "code",
   "execution_count": 4,
   "metadata": {},
   "outputs": [],
   "source": [
    "\n",
    "img, label = ds[0]"
   ]
  },
  {
   "cell_type": "code",
   "execution_count": 5,
   "metadata": {},
   "outputs": [
    {
     "name": "stderr",
     "output_type": "stream",
     "text": [
      "/opt/miniconda3/envs/devIA/lib/python3.12/site-packages/torchvision/transforms/v2/_deprecated.py:41: UserWarning: The transform `ToTensor()` is deprecated and will be removed in a future release. Instead, please use `v2.Compose([v2.ToImage(), v2.ToDtype(torch.float32, scale=True)])`.\n",
      "  warnings.warn(\n"
     ]
    },
    {
     "name": "stdout",
     "output_type": "stream",
     "text": [
      "mean:\n",
      "tensor([0.5522, 0.5133, 0.4826])\n",
      "var:\n",
      "tensor([0.0650, 0.0678, 0.0696])\n"
     ]
    }
   ],
   "source": [
    "mean_sum = torch.zeros(3)\n",
    "var_sum = torch.zeros(3)\n",
    "\n",
    "for i in range(ds.__len__()):\n",
    "    img, label = ds[i]\n",
    "    img_tensor = transforms.ToTensor()(img)\n",
    "    mean_sum += torch.mean(img_tensor, dim=(1, 2))  # Compute mean along height and width dimensions\n",
    "    var_sum += torch.var(img_tensor, dim=(1, 2))\n",
    "\n",
    "mean = mean_sum / ds.__len__()\n",
    "variance = var_sum / ds.__len__()\n",
    "\n",
    "print('mean:')\n",
    "print((mean))\n",
    "print('var:')\n",
    "print((variance))"
   ]
  },
  {
   "cell_type": "code",
   "execution_count": null,
   "metadata": {},
   "outputs": [],
   "source": []
  }
 ],
 "metadata": {
  "kernelspec": {
   "display_name": "devIA",
   "language": "python",
   "name": "python3"
  },
  "language_info": {
   "codemirror_mode": {
    "name": "ipython",
    "version": 3
   },
   "file_extension": ".py",
   "mimetype": "text/x-python",
   "name": "python",
   "nbconvert_exporter": "python",
   "pygments_lexer": "ipython3",
   "version": "3.12.2"
  }
 },
 "nbformat": 4,
 "nbformat_minor": 2
}
