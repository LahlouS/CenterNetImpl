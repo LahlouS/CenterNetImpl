{
 "cells": [
  {
   "cell_type": "code",
   "execution_count": 55,
   "metadata": {},
   "outputs": [],
   "source": [
    "import torch\n",
    "from dataset import CardDlayingDataset, final_transforms\n",
    "import matplotlib.pyplot as plt\n",
    "import numpy as np"
   ]
  },
  {
   "cell_type": "code",
   "execution_count": 56,
   "metadata": {},
   "outputs": [],
   "source": [
    "def focal_loss(pred_maps, gt_maps):\n",
    "\n",
    "    positif_mask = gt_maps.eq(1).float()\n",
    "    negatif_mask = gt_maps.lt(1).float()\n",
    "\n",
    "    rev_prob_pow_beta = torch.pow(1 - gt_maps, 4)\n",
    "\n",
    "    pred_maps = torch.clamp(pred_maps, 1e-12) # guaranty minimal value for numericall stability\n",
    "\n",
    "    positive_instance_loss = torch.log(pred_maps) * torch.pow(1 - pred_maps, 2) * positif_mask # equivalent of if Y_hat_xyz == 1 then focalLoss\n",
    "    negative_instance_loss = rev_prob_pow_beta * torch.pow(pred_maps, 2) * torch.log(1 - pred_maps) * negatif_mask # else\n",
    "\n",
    "    npositif = positif_mask.sum() #  == N\n",
    "\n",
    "    positive_instance_loss = positive_instance_loss.sum()\n",
    "    negative_instance_loss = negative_instance_loss.sum()\n",
    "\n",
    "    if npositif:\n",
    "        return -(positive_instance_loss + negative_instance_loss) / npositif\n",
    "    return -(negative_instance_loss)"
   ]
  },
  {
   "cell_type": "code",
   "execution_count": 57,
   "metadata": {},
   "outputs": [],
   "source": [
    "BASE_PATH = \"/Users/sacha.lahlou/Library/CloudStorage/OneDrive-PMU/centernetImplementation/centernet/cardDetectionDataset/\"\n",
    "TEST_PATH = \"test/\"\n",
    "TRAIN_PATH = \"train/\"\n",
    "\n",
    "ds = CardDlayingDataset(BASE_PATH + TRAIN_PATH, final_transforms)\n",
    "\n",
    "sample = ds[0]\n",
    "\n",
    "\n"
   ]
  },
  {
   "cell_type": "code",
   "execution_count": 58,
   "metadata": {},
   "outputs": [
    {
     "name": "stdout",
     "output_type": "stream",
     "text": [
      "torch.Size([64, 64]) torch.Size([64, 64])\n"
     ]
    },
    {
     "data": {
      "image/png": "[encoded data removed]",
      "text/plain": [
       "<Figure size 800x600 with 2 Axes>"
      ]
     },
     "metadata": {},
     "output_type": "display_data"
    }
   ],
   "source": [
    "gt_maps = torch.tensor(sample['hmaps'])[12]\n",
    "pred_maps = torch.rand(gt_maps.shape)\n",
    "\n",
    "print(gt_maps.shape, pred_maps.shape)\n",
    "\n",
    "def plot_heatmap(matrix, title='no title', figsize=(8, 6)):\n",
    "    # Plot the heatmap\n",
    "    plt.figure(figsize=figsize) \n",
    "    plt.imshow(matrix, cmap='viridis', interpolation='nearest')\n",
    "    plt.colorbar()  # Add colorbar to show the scale\n",
    "    plt.title(title)\n",
    "    plt.xlabel('X-axis')\n",
    "    plt.ylabel('Y-axis')\n",
    "    plt.show()\n",
    "\n",
    "plot_heatmap(gt_maps)"
   ]
  },
  {
   "cell_type": "code",
   "execution_count": 59,
   "metadata": {},
   "outputs": [
    {
     "data": {
      "text/plain": [
       "tensor(2512.2551)"
      ]
     },
     "execution_count": 59,
     "metadata": {},
     "output_type": "execute_result"
    }
   ],
   "source": [
    "focal_loss(pred_maps=pred_maps, gt_maps=gt_maps)"
   ]
  },
  {
   "cell_type": "code",
   "execution_count": 60,
   "metadata": {},
   "outputs": [
    {
     "name": "stdout",
     "output_type": "stream",
     "text": [
      "torch.Size([32, 2, 64, 64])\n",
      "torch.Size([2, 4])\n",
      "torch.Size([2])\n"
     ]
    }
   ],
   "source": [
    "test = torch.rand(32, 2, 64, 64)\n",
    "\n",
    "print(test.shape)\n",
    "\n",
    "print(test[1, :, [2, 3, 4, 5], [6, 10, 32, 3]].shape)\n",
    "print(test[1, :, 2, 6].shape)"
   ]
  },
  {
   "cell_type": "code",
   "execution_count": 83,
   "metadata": {},
   "outputs": [
    {
     "name": "stdout",
     "output_type": "stream",
     "text": [
      "torch.Size([10, 5, 2])\n",
      "torch.Size([10, 2, 64, 64])\n"
     ]
    }
   ],
   "source": [
    "fake_coordinates = np.array([np.stack([np.random.randint(0, 64, size=2), \n",
    "                                       np.random.randint(0, 64, size=2),\n",
    "                                       np.random.randint(0, 64, size=2),\n",
    "                                       np.random.randint(0, 64, size=2),\n",
    "                                       np.random.randint(0, 64, size=2)]) for _ in range(10)])\n",
    "\n",
    "fake_coordinates = torch.tensor(fake_coordinates)\n",
    "fake_size_head = torch.rand(10, 2, 64, 64)\n",
    "\n",
    "print(fake_coordinates.shape)\n",
    "print(fake_size_head.shape)\n"
   ]
  },
  {
   "cell_type": "code",
   "execution_count": 98,
   "metadata": {},
   "outputs": [
    {
     "name": "stdout",
     "output_type": "stream",
     "text": [
      "tensor([[0.2946, 0.3918],\n",
      "        [0.5603, 0.0169],\n",
      "        [0.0518, 0.2686],\n",
      "        [0.9507, 0.4828],\n",
      "        [0.0105, 0.9161]])\n",
      "torch.Size([10, 5, 2])\n"
     ]
    }
   ],
   "source": [
    "\n",
    "def get_predictions_from_head(head, center_position_save):\n",
    "    ret = torch.zeros(center_position_save.shape)\n",
    "\n",
    "    for idx, (center_pos, pred) in enumerate(zip(center_position_save, head)):\n",
    "        for i, ct in enumerate(center_pos):\n",
    "            ret[idx][i] = pred[:, ct[0], ct[1]]\n",
    "    return ret\n",
    "\n",
    "\n",
    "\n",
    "ret = get_predictions_from_head(fake_size_head, fake_coordinates)\n",
    "\n",
    "\n"
   ]
  },
  {
   "cell_type": "code",
   "execution_count": 101,
   "metadata": {},
   "outputs": [],
   "source": [
    "lossl1 = torch.nn.L1Loss()\n",
    "\n",
    "fake_size_map = torch.rand(ret.shape)\n"
   ]
  },
  {
   "cell_type": "code",
   "execution_count": 109,
   "metadata": {},
   "outputs": [
    {
     "name": "stdout",
     "output_type": "stream",
     "text": [
      "torch.Size([10, 5, 2]) torch.Size([10, 5, 2])\n",
      "0.47910675406455994\n"
     ]
    }
   ],
   "source": [
    "print(ret.shape, fake_size_map.shape)\n",
    "loss = lossl1(ret, fake_size_map)\n",
    "\n",
    "print(loss.item())"
   ]
  },
  {
   "cell_type": "code",
   "execution_count": null,
   "metadata": {},
   "outputs": [],
   "source": []
  }
 ],
 "metadata": {
  "kernelspec": {
   "display_name": "devIA",
   "language": "python",
   "name": "python3"
  },
  "language_info": {
   "codemirror_mode": {
    "name": "ipython",
    "version": 3
   },
   "file_extension": ".py",
   "mimetype": "text/x-python",
   "name": "python",
   "nbconvert_exporter": "python",
   "pygments_lexer": "ipython3",
   "version": "3.12.2"
  }
 },
 "nbformat": 4,
 "nbformat_minor": 2
}
